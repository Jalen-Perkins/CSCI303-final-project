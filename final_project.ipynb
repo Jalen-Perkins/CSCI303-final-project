{
 "cells": [
  {
   "cell_type": "markdown",
   "id": "04f033f3-2c92-48b8-ad69-e70065d65263",
   "metadata": {},
   "source": [
    "# Fitting Anomaly Geometry to Gravimetric Data\n",
    "### Jackson Krieger and Jalen Perkins"
   ]
  },
  {
   "cell_type": "code",
   "execution_count": null,
   "id": "c3254028-18de-4ac1-bba7-1c99399bdc6d",
   "metadata": {},
   "outputs": [],
   "source": []
  }
 ],
 "metadata": {
  "kernelspec": {
   "display_name": "Python 3 (ipykernel)",
   "language": "python",
   "name": "python3"
  },
  "language_info": {
   "codemirror_mode": {
    "name": "ipython",
    "version": 3
   },
   "file_extension": ".py",
   "mimetype": "text/x-python",
   "name": "python",
   "nbconvert_exporter": "python",
   "pygments_lexer": "ipython3",
   "version": "3.9.18"
  }
 },
 "nbformat": 4,
 "nbformat_minor": 5
}
